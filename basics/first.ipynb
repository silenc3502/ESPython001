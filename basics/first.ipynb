{
 "cells": [
  {
   "cell_type": "code",
   "execution_count": 1,
   "metadata": {},
   "outputs": [
    {
     "name": "stdout",
     "output_type": "stream",
     "text": [
      "Python 3.7.6\r\n"
     ]
    }
   ],
   "source": [
    "!python --version"
   ]
  },
  {
   "cell_type": "code",
   "execution_count": 2,
   "metadata": {},
   "outputs": [
    {
     "name": "stdout",
     "output_type": "stream",
     "text": [
      "Hello Python\n",
      "Hello Python\n"
     ]
    }
   ],
   "source": [
    "print(\"Hello Python\")\n",
    "# 일반적으로 C나 Java 등의 언어는 문자열을 쌍따옴표로 처리해야하지만\n",
    "# 파이썬의 경우엔 쌍따옴표, 홑따옴표 구분이 없다.\n",
    "print('Hello Python')"
   ]
  },
  {
   "cell_type": "code",
   "execution_count": 3,
   "metadata": {},
   "outputs": [
    {
     "name": "stdout",
     "output_type": "stream",
     "text": [
      "3\n"
     ]
    }
   ],
   "source": [
    "#int num = 3\n",
    "# 파이썬은 인터프리팅 언어\n",
    "# 일반적인 C, C++은 컴파일 언어\n",
    "# 자바는 하이브리드 언어\n",
    "# 자바는 javac라는 명령어가 컴파일을 하고\n",
    "# java라는 명령어가 인터프리팅을 한다.\n",
    "# 순수 인터프리팅 언어의 장점은 데이터 타입을 고려하지 않아도 된다.\n",
    "# 파이썬은 데이터 타입이 없다 ?\n",
    "# 없는게 아니고 파이썬 인터프리터가 자동으로 데이터타입을 맞춰준다.\n",
    "num = 3\n",
    "print(num)"
   ]
  },
  {
   "cell_type": "code",
   "execution_count": 4,
   "metadata": {},
   "outputs": [],
   "source": [
    "# 이진수 처리\n",
    "# 0b10   2^1  2^0  ===> 10 진수 2\n",
    "# 0o10   8^1  8^0  ===> 10 진수 8\n",
    "# 0x10   16^1 16^0 ===> 10 진수 16\n",
    "\n",
    "# 0b1010    2^3  2^2  2^1  2^0  ===> 10 진수 10\n",
    "# 0o1010    8^3  8^2  8^1  8^0  ===> 10 진수 520\n",
    "# 0x1010    16^3 16^2 16^1 16^0 ===> 10 진수 4112\n",
    "\n",
    "# 2^8  - 256\n",
    "# 2^10 - 1024\n",
    "# 2^12 - 4096\n",
    "# 2^16 - 65536\n",
    "\n",
    "# rwx: 7\n",
    "# 8진수는 0 ~ 7까지"
   ]
  },
  {
   "cell_type": "code",
   "execution_count": 8,
   "metadata": {},
   "outputs": [
    {
     "name": "stdout",
     "output_type": "stream",
     "text": [
      "(3+4j)\n",
      "<class 'complex'>\n",
      "(3-4j)\n"
     ]
    }
   ],
   "source": [
    "# 파이썬은 복소수를 별도의 데이터 타입으로 지원한다.\n",
    "# 허수 부분이 j인 이유는 뭘까 ?\n",
    "# 회로 이론 공부하면 전류의 기호가 i\n",
    "# 혼선을 피하기 위해 허수 부분을 j로 표기한다.\n",
    "z1 = 3 + 4j\n",
    "\n",
    "print(z1)\n",
    "print(type(z1))\n",
    "# 켤레 복소수는 conjugate()를 통해 구할 수 있다.\n",
    "print(z1.conjugate())"
   ]
  },
  {
   "cell_type": "code",
   "execution_count": 9,
   "metadata": {},
   "outputs": [
    {
     "name": "stdout",
     "output_type": "stream",
     "text": [
      "(-4+11j)\n",
      "(10-3j)\n"
     ]
    }
   ],
   "source": [
    "z2 = 7 - 7j\n",
    "\n",
    "# 연산자 오버로딩에 의해 아래의 작업이 가능하다!\n",
    "# 객체간에 덧셈, 뺄셈, 곱셈 등등을 자동으로 지원해주는 것\n",
    "# (경우에 따라 사용자가 직접 연산자 오버로딩을 구현해줄 수도 있다)\n",
    "print(z1 - z2)\n",
    "print(z1 + z2)\n",
    "\n",
    "# 객체란 뭐지 ?\n",
    "# 메모리상에 로드된 정보 == 가리지 않고 모두 객체\n",
    "# C에서 구조체를 malloc하여 할당했다면 이 역시 객체가 된다."
   ]
  },
  {
   "cell_type": "code",
   "execution_count": 10,
   "metadata": {},
   "outputs": [],
   "source": [
    "z1 = 3 + 4j\n",
    "z2 = 7 - 7j\n",
    "# C 관점에서 위의 코드를 살펴보자!\n",
    "# z1 포인터 변수(0xa2234138)\n",
    "# z2 포인터 변수(0xa1231352)\n",
    "# z1 - z2 = ??? 알 수 없는 이상한 주소값\n",
    "\n",
    "# z1 + z2\n",
    "#z1.add(z2)  연산자 오버로딩은 이것을 자동으로 지원해준다."
   ]
  },
  {
   "cell_type": "code",
   "execution_count": 11,
   "metadata": {},
   "outputs": [
    {
     "name": "stdout",
     "output_type": "stream",
     "text": [
      "1300.0\n"
     ]
    }
   ],
   "source": [
    "print(1.3e3)"
   ]
  },
  {
   "cell_type": "code",
   "execution_count": 12,
   "metadata": {},
   "outputs": [
    {
     "name": "stdout",
     "output_type": "stream",
     "text": [
      "0.01\n"
     ]
    }
   ],
   "source": [
    "print(1.0e-2)\n",
    "# 즉 e라는 것은 10의 승수를 의미한다."
   ]
  },
  {
   "cell_type": "code",
   "execution_count": 13,
   "metadata": {},
   "outputs": [
    {
     "name": "stdout",
     "output_type": "stream",
     "text": [
      "1024\n"
     ]
    }
   ],
   "source": [
    "print(2 ** 10) # 2^10\n",
    "# 원래 단순한 곱셈 연산의 경우 *\n",
    "# 승수 연산의 경우에는 **"
   ]
  },
  {
   "cell_type": "code",
   "execution_count": 14,
   "metadata": {},
   "outputs": [
    {
     "name": "stdout",
     "output_type": "stream",
     "text": [
      "1300.0\n",
      "<class 'float'>\n",
      "3\n",
      "<class 'int'>\n"
     ]
    }
   ],
   "source": [
    "a = 1.3e3\n",
    "print(a)\n",
    "print(type(a))\n",
    "# C언어의 디폴트 타입 - 실수형: double, 정수형: int\n",
    "# Python 디폴트 타입 - 실수형: float, 정수형: int\n",
    "\n",
    "b = 3\n",
    "print(b)\n",
    "print(type(b))"
   ]
  },
  {
   "cell_type": "code",
   "execution_count": 16,
   "metadata": {},
   "outputs": [
    {
     "name": "stdout",
     "output_type": "stream",
     "text": [
      "2.3333333333333335\n",
      "<class 'float'>\n",
      "2\n",
      "<class 'int'>\n"
     ]
    }
   ],
   "source": [
    "num1 = 7 / 3\n",
    "print(num1)\n",
    "print(type(num1))\n",
    "\n",
    "# 몫만 구하고 싶은 경우엔 //\n",
    "num2 = 7 // 3\n",
    "print(num2)\n",
    "print(type(num2))"
   ]
  },
  {
   "cell_type": "code",
   "execution_count": 19,
   "metadata": {},
   "outputs": [
    {
     "name": "stdout",
     "output_type": "stream",
     "text": [
      "\n",
      "    오늘도 간다 ~\n",
      "        내일도 간다 ~\n",
      "            모레도 간다 ~\n",
      "\n"
     ]
    }
   ],
   "source": [
    "fixStr = \"\"\"\n",
    "    오늘도 간다 ~\n",
    "        내일도 간다 ~\n",
    "            모레도 간다 ~\n",
    "\"\"\"\n",
    "print(fixStr)"
   ]
  },
  {
   "cell_type": "code",
   "execution_count": 20,
   "metadata": {},
   "outputs": [
    {
     "name": "stdout",
     "output_type": "stream",
     "text": [
      "'\n"
     ]
    }
   ],
   "source": [
    "print('\\'')"
   ]
  },
  {
   "cell_type": "code",
   "execution_count": 21,
   "metadata": {},
   "outputs": [
    {
     "name": "stdout",
     "output_type": "stream",
     "text": [
      "\\\n"
     ]
    }
   ],
   "source": [
    "print('\\\\')"
   ]
  },
  {
   "cell_type": "code",
   "execution_count": null,
   "metadata": {},
   "outputs": [],
   "source": []
  }
 ],
 "metadata": {
  "kernelspec": {
   "display_name": "Python 3",
   "language": "python",
   "name": "python3"
  },
  "language_info": {
   "codemirror_mode": {
    "name": "ipython",
    "version": 3
   },
   "file_extension": ".py",
   "mimetype": "text/x-python",
   "name": "python",
   "nbconvert_exporter": "python",
   "pygments_lexer": "ipython3",
   "version": "3.7.6"
  }
 },
 "nbformat": 4,
 "nbformat_minor": 4
}
