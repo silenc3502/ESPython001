{
 "cells": [
  {
   "cell_type": "code",
   "execution_count": 4,
   "metadata": {},
   "outputs": [
    {
     "name": "stdout",
     "output_type": "stream",
     "text": [
      "origin sort: ['black', 'blue', 'gold', 'gray', 'green', 'purple', 'red', 'red', 'white']\n",
      "\n",
      "reverse: ['white', 'red', 'red', 'purple', 'green', 'gray', 'gold', 'blue', 'black']\n",
      "\n",
      "reverse: ['red', 'purple', 'gray', 'white', 'gold', 'blue', 'green', 'black', 'red']\n",
      "\n",
      "mysort\n",
      "my sort: ['red', 'gold', 'red', 'purple', 'white', 'blue', 'black', 'green', 'gray']\n",
      "\n",
      "mysort2\n",
      "my sort2: ['red', 'red', 'gold', 'purple', 'white', 'blue', 'black', 'green', 'gray']\n"
     ]
    }
   ],
   "source": [
    "colors = ['red', 'green', 'blue']\n",
    "colors.append('gold')\n",
    "colors.insert(1, 'black')\n",
    "colors.extend(['white', 'gray'])\n",
    "colors += ['purple']\n",
    "colors += ['red']\n",
    "\n",
    "colors.sort()\n",
    "print('origin sort:', colors)\n",
    "print()\n",
    "\n",
    "colors.reverse()\n",
    "print('reverse:', colors)\n",
    "print()\n",
    "\n",
    "colors = ['red', 'green', 'blue']\n",
    "colors.append('gold')\n",
    "colors.insert(1, 'black')\n",
    "colors.extend(['white', 'gray'])\n",
    "colors += ['purple']\n",
    "colors += ['red']\n",
    "\n",
    "# reverse는 단순히 뒤집기만을 수행한다.\n",
    "colors.reverse()\n",
    "print('reverse:', colors)\n",
    "print()\n",
    "\n",
    "# 맨 뒤에 원소를 보고 정렬을 수행했다.\n",
    "def mysort(x):\n",
    "    return x[-1]\n",
    "\n",
    "def mysort2(x):\n",
    "    return x[-1], x[-2]\n",
    "\n",
    "#(x[-1], x[-2]) ---> 튜플\n",
    "# 튜플은 데이터가 변하지 않는다.\n",
    "# const와 동일한 역할을 수행함\n",
    "\n",
    "print('mysort')\n",
    "colors.sort(key=mysort)\n",
    "print('my sort:', colors)\n",
    "print()\n",
    "\n",
    "print('mysort2')\n",
    "colors.sort(key=mysort2)\n",
    "print('my sort2:', colors)"
   ]
  },
  {
   "cell_type": "code",
   "execution_count": null,
   "metadata": {},
   "outputs": [],
   "source": []
  }
 ],
 "metadata": {
  "kernelspec": {
   "display_name": "Python 3",
   "language": "python",
   "name": "python3"
  },
  "language_info": {
   "codemirror_mode": {
    "name": "ipython",
    "version": 3
   },
   "file_extension": ".py",
   "mimetype": "text/x-python",
   "name": "python",
   "nbconvert_exporter": "python",
   "pygments_lexer": "ipython3",
   "version": "3.7.6"
  }
 },
 "nbformat": 4,
 "nbformat_minor": 4
}
