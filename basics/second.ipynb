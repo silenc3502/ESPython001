{
 "cells": [
  {
   "cell_type": "code",
   "execution_count": 4,
   "metadata": {},
   "outputs": [
    {
     "name": "stdout",
     "output_type": "stream",
     "text": [
      "origin sort: ['black', 'blue', 'gold', 'gray', 'green', 'purple', 'red', 'red', 'white']\n",
      "\n",
      "reverse: ['white', 'red', 'red', 'purple', 'green', 'gray', 'gold', 'blue', 'black']\n",
      "\n",
      "reverse: ['red', 'purple', 'gray', 'white', 'gold', 'blue', 'green', 'black', 'red']\n",
      "\n",
      "mysort\n",
      "my sort: ['red', 'gold', 'red', 'purple', 'white', 'blue', 'black', 'green', 'gray']\n",
      "\n",
      "mysort2\n",
      "my sort2: ['red', 'red', 'gold', 'purple', 'white', 'blue', 'black', 'green', 'gray']\n"
     ]
    }
   ],
   "source": [
    "colors = ['red', 'green', 'blue']\n",
    "colors.append('gold')\n",
    "colors.insert(1, 'black')\n",
    "colors.extend(['white', 'gray'])\n",
    "colors += ['purple']\n",
    "colors += ['red']\n",
    "\n",
    "colors.sort()\n",
    "print('origin sort:', colors)\n",
    "print()\n",
    "\n",
    "colors.reverse()\n",
    "print('reverse:', colors)\n",
    "print()\n",
    "\n",
    "colors = ['red', 'green', 'blue']\n",
    "colors.append('gold')\n",
    "colors.insert(1, 'black')\n",
    "colors.extend(['white', 'gray'])\n",
    "colors += ['purple']\n",
    "colors += ['red']\n",
    "\n",
    "# reverse는 단순히 뒤집기만을 수행한다.\n",
    "colors.reverse()\n",
    "print('reverse:', colors)\n",
    "print()\n",
    "\n",
    "# 맨 뒤에 원소를 보고 정렬을 수행했다.\n",
    "def mysort(x):\n",
    "    return x[-1]\n",
    "\n",
    "def mysort2(x):\n",
    "    return x[-1], x[-2]\n",
    "\n",
    "#(x[-1], x[-2]) ---> 튜플\n",
    "# 튜플은 데이터가 변하지 않는다.\n",
    "# const와 동일한 역할을 수행함\n",
    "\n",
    "print('mysort')\n",
    "colors.sort(key=mysort)\n",
    "print('my sort:', colors)\n",
    "print()\n",
    "\n",
    "print('mysort2')\n",
    "colors.sort(key=mysort2)\n",
    "print('my sort2:', colors)"
   ]
  },
  {
   "cell_type": "code",
   "execution_count": 5,
   "metadata": {},
   "outputs": [
    {
     "name": "stdout",
     "output_type": "stream",
     "text": [
      "[1, 2, 3]\n",
      "[1, 2, 3]\n",
      "[33, 2, 3]\n",
      "[33, 2, 3]\n",
      "139795080681824 139795080681824\n",
      "139795080682144 139795080681824\n",
      "[77, 2, 3]\n",
      "[33, 2, 3]\n",
      "[373, 2, 3]\n",
      "[1, 2, 3]\n",
      "139795080681904 139795080973840\n"
     ]
    }
   ],
   "source": [
    "a = [1, 2, 3]\n",
    "print(a)\n",
    "\n",
    "b = a\n",
    "print(b)\n",
    "\n",
    "a[0] = 33\n",
    "print(a)\n",
    "print(b)\n",
    "\n",
    "print(id(a), id(b))\n",
    "\n",
    "c = [1, 2, 3]\n",
    "d = a\n",
    "print(id(c), id(d))\n",
    "\n",
    "c[0] = 77\n",
    "print(c)\n",
    "print(d)\n",
    "\n",
    "import copy\n",
    "\n",
    "e = [1, 2, 3]\n",
    "f = copy.deepcopy(e)\n",
    "e[0] = 373\n",
    "\n",
    "print(e)\n",
    "print(f)\n",
    "print(id(e), id(f))"
   ]
  },
  {
   "cell_type": "code",
   "execution_count": 6,
   "metadata": {},
   "outputs": [
    {
     "name": "stdout",
     "output_type": "stream",
     "text": [
      "1\n",
      "2\n",
      "3\n",
      "4\n",
      "5\n",
      "6\n",
      "7\n",
      "8\n",
      "9\n",
      "10\n"
     ]
    }
   ],
   "source": [
    "# 1 ~ 11미만 -> 1 ~ 10\n",
    "for i in range(1, 11):\n",
    "    print(i)"
   ]
  },
  {
   "cell_type": "code",
   "execution_count": null,
   "metadata": {},
   "outputs": [],
   "source": [
    "# 숙제 리스트\n",
    "# 1. page 25에서 발생한 현상에 대해 조사\n",
    "# 2. page 28까지 예습 진행\n",
    "# 3. C로 정적분을 구현해봤으니 C로 미분도 구현해보자!\n",
    "# 4. python으로도 정적분을 구현해보고 미분도 작성해보자!\n",
    "#   (어떤 의도를 가지고 이 코드를 작성했는지 주석을 달아보자!)"
   ]
  }
 ],
 "metadata": {
  "kernelspec": {
   "display_name": "Python 3",
   "language": "python",
   "name": "python3"
  },
  "language_info": {
   "codemirror_mode": {
    "name": "ipython",
    "version": 3
   },
   "file_extension": ".py",
   "mimetype": "text/x-python",
   "name": "python",
   "nbconvert_exporter": "python",
   "pygments_lexer": "ipython3",
   "version": "3.7.6"
  }
 },
 "nbformat": 4,
 "nbformat_minor": 4
}
